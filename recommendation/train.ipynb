{
 "cells": [
  {
   "cell_type": "code",
   "execution_count": 2,
   "metadata": {},
   "outputs": [
    {
     "name": "stdout",
     "output_type": "stream",
     "text": [
      "Requirement already satisfied: google-cloud-bigquery in /Users/bkyritz/miniconda3/lib/python3.10/site-packages (3.12.0)\n",
      "Requirement already satisfied: google-api-core[grpc]!=2.0.*,!=2.1.*,!=2.2.*,!=2.3.0,<3.0.0dev,>=1.31.5 in /Users/bkyritz/miniconda3/lib/python3.10/site-packages (from google-cloud-bigquery) (2.12.0)\n",
      "Requirement already satisfied: packaging>=20.0.0 in /Users/bkyritz/miniconda3/lib/python3.10/site-packages (from google-cloud-bigquery) (23.0)\n",
      "Requirement already satisfied: proto-plus<2.0.0dev,>=1.15.0 in /Users/bkyritz/miniconda3/lib/python3.10/site-packages (from google-cloud-bigquery) (1.22.3)\n",
      "Requirement already satisfied: python-dateutil<3.0dev,>=2.7.2 in /Users/bkyritz/miniconda3/lib/python3.10/site-packages (from google-cloud-bigquery) (2.8.2)\n",
      "Requirement already satisfied: google-resumable-media<3.0dev,>=0.6.0 in /Users/bkyritz/miniconda3/lib/python3.10/site-packages (from google-cloud-bigquery) (2.6.0)\n",
      "Requirement already satisfied: protobuf!=3.20.0,!=3.20.1,!=4.21.0,!=4.21.1,!=4.21.2,!=4.21.3,!=4.21.4,!=4.21.5,<5.0.0dev,>=3.19.5 in /Users/bkyritz/miniconda3/lib/python3.10/site-packages (from google-cloud-bigquery) (4.24.3)\n",
      "Requirement already satisfied: google-cloud-core<3.0.0dev,>=1.6.0 in /Users/bkyritz/miniconda3/lib/python3.10/site-packages (from google-cloud-bigquery) (2.3.3)\n",
      "Requirement already satisfied: requests<3.0.0dev,>=2.21.0 in /Users/bkyritz/miniconda3/lib/python3.10/site-packages (from google-cloud-bigquery) (2.28.1)\n",
      "Requirement already satisfied: grpcio<2.0dev,>=1.47.0 in /Users/bkyritz/miniconda3/lib/python3.10/site-packages (from google-cloud-bigquery) (1.59.0)\n",
      "Requirement already satisfied: googleapis-common-protos<2.0.dev0,>=1.56.2 in /Users/bkyritz/miniconda3/lib/python3.10/site-packages (from google-api-core[grpc]!=2.0.*,!=2.1.*,!=2.2.*,!=2.3.0,<3.0.0dev,>=1.31.5->google-cloud-bigquery) (1.61.0)\n",
      "Requirement already satisfied: google-auth<3.0.dev0,>=2.14.1 in /Users/bkyritz/miniconda3/lib/python3.10/site-packages (from google-api-core[grpc]!=2.0.*,!=2.1.*,!=2.2.*,!=2.3.0,<3.0.0dev,>=1.31.5->google-cloud-bigquery) (2.23.3)\n",
      "Requirement already satisfied: grpcio-status<2.0.dev0,>=1.33.2 in /Users/bkyritz/miniconda3/lib/python3.10/site-packages (from google-api-core[grpc]!=2.0.*,!=2.1.*,!=2.2.*,!=2.3.0,<3.0.0dev,>=1.31.5->google-cloud-bigquery) (1.59.0)\n",
      "Requirement already satisfied: google-crc32c<2.0dev,>=1.0 in /Users/bkyritz/miniconda3/lib/python3.10/site-packages (from google-resumable-media<3.0dev,>=0.6.0->google-cloud-bigquery) (1.5.0)\n",
      "Requirement already satisfied: six>=1.5 in /Users/bkyritz/miniconda3/lib/python3.10/site-packages (from python-dateutil<3.0dev,>=2.7.2->google-cloud-bigquery) (1.16.0)\n",
      "Requirement already satisfied: charset-normalizer<3,>=2 in /Users/bkyritz/miniconda3/lib/python3.10/site-packages (from requests<3.0.0dev,>=2.21.0->google-cloud-bigquery) (2.0.4)\n",
      "Requirement already satisfied: certifi>=2017.4.17 in /Users/bkyritz/miniconda3/lib/python3.10/site-packages (from requests<3.0.0dev,>=2.21.0->google-cloud-bigquery) (2023.7.22)\n",
      "Requirement already satisfied: urllib3<1.27,>=1.21.1 in /Users/bkyritz/miniconda3/lib/python3.10/site-packages (from requests<3.0.0dev,>=2.21.0->google-cloud-bigquery) (1.26.15)\n",
      "Requirement already satisfied: idna<4,>=2.5 in /Users/bkyritz/miniconda3/lib/python3.10/site-packages (from requests<3.0.0dev,>=2.21.0->google-cloud-bigquery) (3.4)\n",
      "Requirement already satisfied: cachetools<6.0,>=2.0.0 in /Users/bkyritz/miniconda3/lib/python3.10/site-packages (from google-auth<3.0.dev0,>=2.14.1->google-api-core[grpc]!=2.0.*,!=2.1.*,!=2.2.*,!=2.3.0,<3.0.0dev,>=1.31.5->google-cloud-bigquery) (5.3.1)\n",
      "Requirement already satisfied: pyasn1-modules>=0.2.1 in /Users/bkyritz/miniconda3/lib/python3.10/site-packages (from google-auth<3.0.dev0,>=2.14.1->google-api-core[grpc]!=2.0.*,!=2.1.*,!=2.2.*,!=2.3.0,<3.0.0dev,>=1.31.5->google-cloud-bigquery) (0.3.0)\n",
      "Requirement already satisfied: rsa<5,>=3.1.4 in /Users/bkyritz/miniconda3/lib/python3.10/site-packages (from google-auth<3.0.dev0,>=2.14.1->google-api-core[grpc]!=2.0.*,!=2.1.*,!=2.2.*,!=2.3.0,<3.0.0dev,>=1.31.5->google-cloud-bigquery) (4.9)\n",
      "Requirement already satisfied: pyasn1<0.6.0,>=0.4.6 in /Users/bkyritz/miniconda3/lib/python3.10/site-packages (from pyasn1-modules>=0.2.1->google-auth<3.0.dev0,>=2.14.1->google-api-core[grpc]!=2.0.*,!=2.1.*,!=2.2.*,!=2.3.0,<3.0.0dev,>=1.31.5->google-cloud-bigquery) (0.5.0)\n",
      "Requirement already satisfied: db-dtypes in /Users/bkyritz/miniconda3/lib/python3.10/site-packages (1.1.1)\n",
      "Requirement already satisfied: pandas>=0.24.2 in /Users/bkyritz/miniconda3/lib/python3.10/site-packages (from db-dtypes) (2.0.3)\n",
      "Requirement already satisfied: packaging>=17.0 in /Users/bkyritz/miniconda3/lib/python3.10/site-packages (from db-dtypes) (23.0)\n",
      "Requirement already satisfied: pyarrow>=3.0.0 in /Users/bkyritz/miniconda3/lib/python3.10/site-packages (from db-dtypes) (13.0.0)\n",
      "Requirement already satisfied: numpy>=1.16.6 in /Users/bkyritz/miniconda3/lib/python3.10/site-packages (from db-dtypes) (1.25.1)\n",
      "Requirement already satisfied: tzdata>=2022.1 in /Users/bkyritz/miniconda3/lib/python3.10/site-packages (from pandas>=0.24.2->db-dtypes) (2023.3)\n",
      "Requirement already satisfied: pytz>=2020.1 in /Users/bkyritz/miniconda3/lib/python3.10/site-packages (from pandas>=0.24.2->db-dtypes) (2023.3.post1)\n",
      "Requirement already satisfied: python-dateutil>=2.8.2 in /Users/bkyritz/miniconda3/lib/python3.10/site-packages (from pandas>=0.24.2->db-dtypes) (2.8.2)\n",
      "Requirement already satisfied: six>=1.5 in /Users/bkyritz/miniconda3/lib/python3.10/site-packages (from python-dateutil>=2.8.2->pandas>=0.24.2->db-dtypes) (1.16.0)\n",
      "Requirement already satisfied: tqdm in /Users/bkyritz/miniconda3/lib/python3.10/site-packages (4.65.0)\n",
      "Requirement already satisfied: pyspark in /Users/bkyritz/miniconda3/lib/python3.10/site-packages (3.4.1)\n",
      "Requirement already satisfied: py4j==0.10.9.7 in /Users/bkyritz/miniconda3/lib/python3.10/site-packages (from pyspark) (0.10.9.7)\n",
      "Requirement already satisfied: pandas in /Users/bkyritz/miniconda3/lib/python3.10/site-packages (2.0.3)\n",
      "Requirement already satisfied: pytz>=2020.1 in /Users/bkyritz/miniconda3/lib/python3.10/site-packages (from pandas) (2023.3.post1)\n",
      "Requirement already satisfied: tzdata>=2022.1 in /Users/bkyritz/miniconda3/lib/python3.10/site-packages (from pandas) (2023.3)\n",
      "Requirement already satisfied: python-dateutil>=2.8.2 in /Users/bkyritz/miniconda3/lib/python3.10/site-packages (from pandas) (2.8.2)\n",
      "Requirement already satisfied: numpy>=1.21.0 in /Users/bkyritz/miniconda3/lib/python3.10/site-packages (from pandas) (1.25.1)\n",
      "Requirement already satisfied: six>=1.5 in /Users/bkyritz/miniconda3/lib/python3.10/site-packages (from python-dateutil>=2.8.2->pandas) (1.16.0)\n"
     ]
    }
   ],
   "source": [
    "!pip install google-cloud-bigquery\n",
    "!pip install db-dtypes\n",
    "!pip install tqdm\n",
    "!pip install pyspark\n",
    "!pip install pandas"
   ]
  },
  {
   "cell_type": "code",
   "execution_count": 3,
   "metadata": {},
   "outputs": [
    {
     "name": "stderr",
     "output_type": "stream",
     "text": [
      "Setting default log level to \"WARN\".\n",
      "To adjust logging level use sc.setLogLevel(newLevel). For SparkR, use setLogLevel(newLevel).\n",
      "23/10/16 09:15:19 WARN NativeCodeLoader: Unable to load native-hadoop library for your platform... using builtin-java classes where applicable\n"
     ]
    }
   ],
   "source": [
    "from pyspark.sql import SparkSession\n",
    "from pyspark.ml.recommendation import ALS\n",
    "from pyspark.ml.evaluation import RegressionEvaluator\n",
    "import pandas as pd\n",
    "import requests\n",
    "from pyspark.sql.functions import udf\n",
    "from pyspark.sql.types import StringType\n",
    "import os\n",
    "from pyspark.sql import Row\n",
    "from tqdm import tqdm\n",
    "\n",
    "\n",
    "spark = SparkSession.builder.appName('recommendation_ai').getOrCreate()\n"
   ]
  },
  {
   "cell_type": "code",
   "execution_count": 4,
   "metadata": {},
   "outputs": [
    {
     "name": "stdout",
     "output_type": "stream",
     "text": [
      "+--------------------+-----------------------+----------+--------------------+--------------------+--------------------+------------------------+---------------------+--------------------+---------------------+---------------------+---------+---------------------+--------------------+---------+---------------+-------------+--------------------+--------------------+----------------+--------+------+---------------+------------------+-------------+-------------------------------+--------------------+--------+--------------------+------------------------+--------------------+-------------------------------------+\n",
      "|             post_id|contract_publication_id|profile_id|         content_uri|s3_metadata_location| collect_nft_address|reference_implementation|reference_return_data|  is_related_to_post|is_related_to_comment|is_metadata_processed|has_error|metadata_error_reason|             tx_hash|is_hidden|timeout_request|       app_id|     block_timestamp|  created_block_hash|metadata_version|language|region|content_warning|main_content_focus|  tags_vector|custom_filters_gardener_flagged|             content|is_gated|is_data_availability|data_availability_proofs| datastream_metadata|data_availability_verification_failed|\n",
      "+--------------------+-----------------------+----------+--------------------+--------------------+--------------------+------------------------+---------------------+--------------------+---------------------+---------------------+---------+---------------------+--------------------+---------+---------------+-------------+--------------------+--------------------+----------------+--------+------+---------------+------------------+-------------+-------------------------------+--------------------+--------+--------------------+------------------------+--------------------+-------------------------------------+\n",
      "|0x01e55b-0x01-DA-...|                   0x01|  0x01e55b|https://data.lens...|https://statics-p...|                null|                    null|                 null|                null|                 null|                 True|    False|                 null|                null|    False|          False|       phaver|2023-10-15 22:16:...|                null|           1.0.0|    null|  null|           null|              null|         null|                          false|Sliced Raw Gizzar...|   False|                True|    ar://FcTk3LzvSH7m...|{'uuid': 'b8f470a...|                                False|\n",
      "|0x01e966-0x01-DA-...|                   0x01|  0x01e966|https://data.lens...|https://statics-p...|                null|                    null|                 null|                null|                 null|                 True|    False|                 null|                null|    False|          False|       phaver|2023-10-15 22:22:...|                null|           1.0.0|    null|  null|           null|              null|         null|                          false|The stars will go...|   False|                True|    ar://EziJyEJjyKdZ...|{'uuid': 'bf00126...|                                False|\n",
      "|0x01e892-0x02-DA-...|                   0x02|  0x01e892|https://data.lens...|https://statics-p...|                null|                    null|                 null|                null|                 null|                 True|    False|                 null|                null|    False|          False|       phaver|2023-10-15 22:21:...|                null|           1.0.0|    null|  null|           null|              null|         null|                          false|#BTC    dominance...|    null|                null|                    null|                null|                                 null|\n",
      "|A lot of people h...|    but altcoins con...|     False|                True|ar://ctGVUjWlq-n0...|{'uuid': 'ba967f0...|                   False|                 null|                null|                 null|                 null|     null|                 null|                null|     null|           null|         null|                null|                null|            null|    null|  null|           null|              null|         null|                           null|                null|    null|                null|                    null|                null|                                 null|\n",
      "|0x01602e-0x1c-DA-...|                   0x1c|  0x01602e|ar://AuW5MaR2uauK...|https://statics-p...|                null|                    null|                 null|                null|                 null|                 True|    False|                 null|                null|    False|          False|          hey|2023-10-15 22:14:...|                null|           2.0.0|    null|  null|           null|         TEXT_ONLY|         null|                          false|gm everyone ,my h...|   False|                True|    ar://j4_nMJooxjHJ...|{'uuid': '233cfd3...|                                False|\n",
      "|0x01e115-0x22-DA-...|                   0x22|  0x01e115|https://data.lens...|https://statics-p...|                null|                    null|                 null|                null|                 null|                 True|    False|                 null|                null|    False|          False|       phaver|2023-10-15 22:21:...|                null|           1.0.0|    null|  null|           null|              null|         null|                          false|We have sleepy ch...|   False|                True|    ar://tGOAwidX05q8...|{'uuid': 'ba967f0...|                                False|\n",
      "|0xb16f-0x23-DA-a1...|                   0x23|    0xb16f|https://data.lens...|https://statics-p...|                null|                    null|                 null|                null|                 null|                 True|    False|                 null|                null|    False|          False|       phaver|2023-10-15 22:17:...|                null|           1.0.0|    null|  null|           null|              null|         null|                          false|when you see this...|   False|                True|    ar://Gt2hsUgD1ruI...|{'uuid': '2203adc...|                                False|\n",
      "|0xbbc5-0x0151-DA-...|                 0x0151|    0xbbc5|https://data.lens...|https://statics-p...|                null|                    null|                 null|0x9d4d-0x023d-DA-...|                 null|                 True|    False|                 null|                null|    False|          False|       phaver|2023-10-15 22:18:...|                null|           1.0.0|    null|  null|           null|              null|         null|                          false|                null|   False|                True|    ar://hDTpMqaJP-sB...|{'uuid': 'b66b7c6...|                                False|\n",
      "|0x01b657-0x6628-D...|                 0x6628|  0x01b657|https://arweave.n...|https://statics-p...|                null|                    null|                 null|                null|                 null|                 True|    False|                 null|                null|    False|          False|aave lens bot|2023-10-15 22:15:...|                null|           2.0.0|    null|  null|           null|         TEXT_ONLY|'AAVE' 'DEFI'|                          false|Aave V3 Supply by...|    null|                null|                    null|                null|                                 null|\n",
      "|  Amount: 0.002 WETH|                   null|      null|                null|                null|                null|                    null|                 null|                null|                 null|                 null|     null|                 null|                null|     null|           null|         null|                null|                null|            null|    null|  null|           null|              null|         null|                           null|                null|    null|                null|                    null|                null|                                 null|\n",
      "|  Total Value: $3.12|                   null|      null|                null|                null|                null|                    null|                 null|                null|                 null|                 null|     null|                 null|                null|     null|           null|         null|                null|                null|            null|    null|  null|           null|              null|         null|                           null|                null|    null|                null|                    null|                null|                                 null|\n",
      "| https://ethersca...|                  False|      True|ar://PbsiKcp25cPJ...|{'uuid': '56fa1e0...|               False|                    null|                 null|                null|                 null|                 null|     null|                 null|                null|     null|           null|         null|                null|                null|            null|    null|  null|           null|              null|         null|                           null|                null|    null|                null|                    null|                null|                                 null|\n",
      "|0x01b657-0x6628-D...|                 0x6628|  0x01b657|https://arweave.n...|https://statics-p...|                null|                    null|                 null|                null|                 null|                 True|    False|                 null|                null|    False|          False|aave lens bot|2023-10-15 22:13:...|                null|           2.0.0|    null|  null|           null|         TEXT_ONLY|'AAVE' 'DEFI'|                          false|👻 0x4da.....70f5...|    null|                null|                    null|                null|                                 null|\n",
      "| Amount: 3.295 AA...|                   null|      null|                null|                null|                null|                    null|                 null|                null|                 null|                 null|     null|                 null|                null|     null|           null|         null|                null|                null|            null|    null|  null|           null|              null|         null|                           null|                null|    null|                null|                    null|                null|                                 null|\n",
      "| https://ethersca...|                  False|      True|ar://chC-5M1kjQ8D...|{'uuid': '16ac0c9...|               False|                    null|                 null|                null|                 null|                 null|     null|                 null|                null|     null|           null|         null|                null|                null|            null|    null|  null|           null|              null|         null|                           null|                null|    null|                null|                    null|                null|                                 null|\n",
      "|0x01b657-0x6628-D...|                 0x6628|  0x01b657|https://arweave.n...|https://statics-p...|                null|                    null|                 null|                null|                 null|                 True|    False|                 null|                null|    False|          False|aave lens bot|2023-10-15 22:15:...|                null|           2.0.0|    null|  null|           null|         TEXT_ONLY|'AAVE' 'DEFI'|                          false|Aave V3 Withdraw ...|    null|                null|                    null|                null|                                 null|\n",
      "|    Amount: 1.3 rETH|                   null|      null|                null|                null|                null|                    null|                 null|                null|                 null|                 null|     null|                 null|                null|     null|           null|         null|                null|                null|            null|    null|  null|           null|              null|         null|                           null|                null|    null|                null|                    null|                null|                                 null|\n",
      "|     Total Value: $2|                 203.76|      null|                null|                null|                null|                    null|                 null|                null|                 null|                 null|     null|                 null|                null|     null|           null|         null|                null|                null|            null|    null|  null|           null|              null|         null|                           null|                null|    null|                null|                    null|                null|                                 null|\n",
      "| https://ethersca...|                  False|      True|ar://qey6itzryZNR...|{'uuid': '233cfd3...|               False|                    null|                 null|                null|                 null|                 null|     null|                 null|                null|     null|           null|         null|                null|                null|            null|    null|  null|           null|              null|         null|                           null|                null|    null|                null|                    null|                null|                                 null|\n",
      "|         0xde9e-0x9d|                   0x9d|    0xde9e|ar://S8z7o4qZSR_h...|https://statics-p...|                null|                    null|                 null|                null|                 null|                 True|    False|                 null|0x5bb207fb75caf1c...|    False|          False|          hey|2023-10-15 22:20:...|0x0e2e884409a38d2...|           2.0.0|      en|  null|           null|         TEXT_ONLY|         null|                          false|\"I just voted \"\"Y...|   False|               False|                    null|{'uuid': 'ba967f0...|                                False|\n",
      "+--------------------+-----------------------+----------+--------------------+--------------------+--------------------+------------------------+---------------------+--------------------+---------------------+---------------------+---------+---------------------+--------------------+---------+---------------+-------------+--------------------+--------------------+----------------+--------+------+---------------+------------------+-------------+-------------------------------+--------------------+--------+--------------------+------------------------+--------------------+-------------------------------------+\n",
      "only showing top 20 rows\n",
      "\n"
     ]
    },
    {
     "name": "stderr",
     "output_type": "stream",
     "text": [
      "23/10/16 09:15:23 WARN package: Truncated the string representation of a plan since it was too large. This behavior can be adjusted by setting 'spark.sql.debug.maxToStringFields'.\n"
     ]
    }
   ],
   "source": [
    "likes_df = spark.read.csv('likes.csv', inferSchema=True, header=True)\n",
    "posts_df = spark.read.csv('posts.csv', inferSchema=True, header=True)\n",
    "profiles_df = spark.read.csv('profiles.csv', inferSchema=True, header=True)\n",
    "\n",
    "posts_df.show()"
   ]
  },
  {
   "cell_type": "code",
   "execution_count": 6,
   "metadata": {},
   "outputs": [
    {
     "name": "stderr",
     "output_type": "stream",
     "text": [
      "Loading content: 100%|██████████| 7691/7691 [02:48<00:00, 45.77it/s]            \n"
     ]
    }
   ],
   "source": [
    "import concurrent.futures\n",
    "\n",
    "def get_content(uri1, uri2):\n",
    "    try:\n",
    "        response = requests.get(uri1)\n",
    "        return response.text\n",
    "    except:\n",
    "        try:\n",
    "            response = requests.get(uri2)\n",
    "            return response.text\n",
    "        except:\n",
    "            return \"\"\n",
    "        \n",
    "# Collect the unique URIs to a Python list\n",
    "uri_pairs = posts_df.select('s3_metadata_location', 'content_uri').distinct().rdd.map(tuple).collect()\n",
    "\n",
    "\n",
    "def get_content_pair(uri_pair):\n",
    "    s3_metadata_location, content_uri = uri_pair\n",
    "    content = get_content(content_uri, s3_metadata_location)\n",
    "    return Row(s3_metadata_location=s3_metadata_location, content=content)\n",
    "\n",
    "# Use a ThreadPoolExecutor to parallelize the requests\n",
    "with concurrent.futures.ThreadPoolExecutor() as executor:\n",
    "    rows = list(tqdm(executor.map(get_content_pair, uri_pairs), total=len(uri_pairs), desc=\"Loading content\"))\n",
    "\n",
    "# Create a DataFrame from the results\n",
    "content_df = spark.createDataFrame(rows)\n",
    "\n",
    "# Join the results back to the original DataFrame\n",
    "posts_df = posts_df.join(content_df, on='s3_metadata_location', how='left')"
   ]
  },
  {
   "cell_type": "code",
   "execution_count": 21,
   "metadata": {},
   "outputs": [
    {
     "name": "stdout",
     "output_type": "stream",
     "text": [
      "+--------+--------------------+------+-----------+-----------+\n",
      "|  userId|              postId|rating|userIdIndex|postIdIndex|\n",
      "+--------+--------------------+------+-----------+-----------+\n",
      "|  0x86a3|0x7c66-0x014b-DA-...|     1|      906.0|      124.0|\n",
      "|  0x9457|0x06ab-0x70-DA-51...|     1|      913.0|       24.0|\n",
      "|  0xbee1|       0xbee1-0x0cfd|     1|       42.0|     1526.0|\n",
      "|  0xd8d1|0x9ae8-0x030a-DA-...|     1|        8.0|      853.0|\n",
      "|0x0175a9|0xebdc-0x45-DA-27...|     1|      146.0|       67.0|\n",
      "+--------+--------------------+------+-----------+-----------+\n",
      "only showing top 5 rows\n",
      "\n"
     ]
    }
   ],
   "source": [
    "from pyspark.sql.functions import col\n",
    "from pyspark.sql.functions import when\n",
    "from pyspark.ml.feature import StringIndexer\n",
    "\n",
    "\n",
    "\n",
    "# Rename the columns to match the names expected by ALS\n",
    "ratings_df = likes_df.selectExpr(\"actioned_by_profile_id as userId\", \"publication_id as postId\", \"reaction as rating\")\n",
    "\n",
    "\n",
    "\n",
    "# Create a StringIndexer\n",
    "indexer = StringIndexer(inputCol=\"userId\", outputCol=\"userIdIndex\")\n",
    "\n",
    "# Index the userId column\n",
    "ratings_df = indexer.fit(ratings_df).transform(ratings_df)\n",
    "\n",
    "# Do the same for the postId column\n",
    "indexer.setInputCol(\"postId\")\n",
    "indexer.setOutputCol(\"postIdIndex\")\n",
    "ratings_df = indexer.fit(ratings_df).transform(ratings_df)\n",
    "\n",
    "\n",
    "\n",
    "ratings_df = ratings_df.filter(ratings_df.userId.isNotNull())\n",
    "\n",
    "# Map \"UPVOTE\" to 1 and \"DOWNVOTE\" to -1\n",
    "ratings_df = ratings_df.withColumn(\"rating\", when(col(\"rating\") == \"UPVOTE\", 1).otherwise(-1))\n",
    "\n",
    "ratings_df.show(5)\n"
   ]
  },
  {
   "cell_type": "code",
   "execution_count": 24,
   "metadata": {},
   "outputs": [
    {
     "name": "stdout",
     "output_type": "stream",
     "text": [
      "Root-mean-square error = 0.7922848517756703\n"
     ]
    }
   ],
   "source": [
    "from pyspark.ml.recommendation import ALS\n",
    "from pyspark.ml.evaluation import RegressionEvaluator\n",
    "\n",
    "# Assume you have a DataFrame `ratings_df` with columns 'userId', 'postId', and 'rating'\n",
    "# Split the data into training and test sets\n",
    "(training, test) = ratings_df.randomSplit([0.8, 0.2])\n",
    "# Create an ALS model\n",
    "als = ALS(maxIter=5, regParam=0.01, userCol=\"userIdIndex\", itemCol=\"postIdIndex\", ratingCol=\"rating\",\n",
    "          coldStartStrategy=\"drop\")\n",
    "\n",
    "# Train the ALS model\n",
    "model = als.fit(training)\n",
    "\n",
    "# Make predictions on the test data\n",
    "predictions = model.transform(test)\n",
    "\n",
    "# Evaluate the model\n",
    "evaluator = RegressionEvaluator(metricName=\"rmse\", labelCol=\"rating\", predictionCol=\"prediction\")\n",
    "rmse = evaluator.evaluate(predictions)\n",
    "print(f\"Root-mean-square error = {rmse}\")"
   ]
  },
  {
   "cell_type": "code",
   "execution_count": 28,
   "metadata": {},
   "outputs": [
    {
     "name": "stderr",
     "output_type": "stream",
     "text": [
      "                                                                                \r"
     ]
    },
    {
     "name": "stdout",
     "output_type": "stream",
     "text": [
      "+-----------+--------------------+\n",
      "|userIdIndex|     recommendations|\n",
      "+-----------+--------------------+\n",
      "|          1|[{872, 1.1825883}...|\n",
      "|          3|[{154, 2.0642385}...|\n",
      "|          5|[{87, 1.6188003},...|\n",
      "|          6|[{77, 1.631887}, ...|\n",
      "|          9|[{320, 1.8445369}...|\n",
      "|         12|[{131, 1.6727555}...|\n",
      "|         13|[{42, 1.819513}, ...|\n",
      "|         15|[{90, 1.4823849},...|\n",
      "|         16|[{28, 2.120071}, ...|\n",
      "|         17|[{31, 1.5751598},...|\n",
      "|         19|[{65, 1.8274947},...|\n",
      "|         20|[{88, 1.6329093},...|\n",
      "|         22|[{39, 1.4830574},...|\n",
      "|         26|[{153, 1.6383357}...|\n",
      "|         27|[{491, 1.465279},...|\n",
      "|         28|[{275, 1.5412489}...|\n",
      "|         31|[{334, 1.9206804}...|\n",
      "|         34|[{155, 2.1228735}...|\n",
      "|         35|[{44, 1.7933944},...|\n",
      "|         37|[{275, 1.6352398}...|\n",
      "+-----------+--------------------+\n",
      "only showing top 20 rows\n",
      "\n"
     ]
    },
    {
     "name": "stderr",
     "output_type": "stream",
     "text": [
      "                                                                                \r"
     ]
    }
   ],
   "source": [
    "# Generate top 10 post recommendations for each user\n",
    "userRecs = model.recommendForAllUsers(10)\n",
    "\n",
    "userRecs.show()\n",
    "\n",
    "# Convert the recommendations array to a string\n",
    "userRecs = userRecs.withColumn(\"recommendations\", col(\"recommendations\").cast(\"string\"))\n",
    "\n",
    "# Save the DataFrame to a CSV file\n",
    "userRecs.write.csv(\"user_recommendations.csv\")"
   ]
  }
 ],
 "metadata": {
  "kernelspec": {
   "display_name": "Python 3",
   "language": "python",
   "name": "python3"
  },
  "language_info": {
   "codemirror_mode": {
    "name": "ipython",
    "version": 3
   },
   "file_extension": ".py",
   "mimetype": "text/x-python",
   "name": "python",
   "nbconvert_exporter": "python",
   "pygments_lexer": "ipython3",
   "version": "3.10.12"
  },
  "orig_nbformat": 4
 },
 "nbformat": 4,
 "nbformat_minor": 2
}
